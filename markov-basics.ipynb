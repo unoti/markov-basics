{
 "cells": [
  {
   "cell_type": "markdown",
   "metadata": {},
   "source": [
    "# Markov Chain basics\n",
    "\n",
    "Let's demonstrate a simple [Markov Chain](https://en.wikipedia.org/wiki/Markov_chain).\n",
    "> A Markov chain or Markov process is a stochastic model describing a sequence of possible events in which the probability of each event depends only on the state attained in the previous event\n",
    "\n",
    "## US Cities\n",
    "To demonstrate this, we'll see if we can make something that generates city names.\n",
    "\n",
    "For this section, we'll get to where we have input data being read successfully.  I downloaded a CSV of city names from https://simplemaps.com/data/us-cities\n",
    "\n",
    "I've included the first few records of that dataset here, but feel free to replace it with the full data."
   ]
  },
  {
   "cell_type": "code",
   "execution_count": 110,
   "metadata": {},
   "outputs": [],
   "source": [
    "import csv\n",
    "from dataclasses import dataclass\n",
    "import random\n",
    "from typing import Iterable, List\n"
   ]
  },
  {
   "cell_type": "code",
   "execution_count": 12,
   "metadata": {},
   "outputs": [],
   "source": [
    "def get_cities(input_file: str = 'data/uscities-sample.csv') -> List[str]:\n",
    "    city_names = []\n",
    "    with open(input_file, mode='r') as f:\n",
    "        csv_file = csv.reader(f)\n",
    "        first = True\n",
    "        for line in csv_file:\n",
    "            if first:\n",
    "                first = False\n",
    "                continue\n",
    "            city_names.append(line[0])\n",
    "    return city_names        "
   ]
  },
  {
   "cell_type": "code",
   "execution_count": 13,
   "metadata": {},
   "outputs": [
    {
     "data": {
      "text/plain": [
       "['New York',\n",
       " 'Los Angeles',\n",
       " 'Chicago',\n",
       " 'Miami',\n",
       " 'Houston',\n",
       " 'Dallas',\n",
       " 'Philadelphia',\n",
       " 'Atlanta',\n",
       " 'Washington',\n",
       " 'Boston',\n",
       " 'Phoenix',\n",
       " 'Detroit']"
      ]
     },
     "execution_count": 13,
     "metadata": {},
     "output_type": "execute_result"
    }
   ],
   "source": [
    "get_cities()"
   ]
  },
  {
   "cell_type": "markdown",
   "metadata": {},
   "source": [
    "Now that we have some input data to work with we're ready to try making a Markov Chain."
   ]
  },
  {
   "cell_type": "markdown",
   "metadata": {},
   "source": [
    "## Markov Chain\n",
    "The idea we're going with is that given some previous letters, generate the next letter.  Or, alternatively, we could stop and say we're done.  Let's add two special characters to our system to signify the end.  We'll use '.' to indicate that the last letter has been generated.  We want to have a method to accept some training data, and a method to generate something."
   ]
  },
  {
   "cell_type": "code",
   "execution_count": 15,
   "metadata": {},
   "outputs": [],
   "source": [
    "class MarkovGenerator:\n",
    "    def __init__(self):\n",
    "        self._end_char = '.' # Used internally to indicate this is the end of the string.\n",
    "    \n",
    "    def train(self, sample: str):\n",
    "        \"\"\"Accept one sample of training data.\"\"\"\n",
    "        pass\n",
    "\n",
    "    def generate(self) -> str:\n",
    "        \"\"\"Generate one example.\"\"\"\n",
    "        pass"
   ]
  },
  {
   "cell_type": "markdown",
   "metadata": {},
   "source": [
    "What we're going to do is track the probability of the next character based on what we've seen in the training data.  Imagine our full corpus of training data was the word \"Catalina\".  Let's make the probability of the next letter entirely based on looking just at the previous character.  We'd end up with a table that looks like this:\n",
    "\n",
    "|Letter | Next letter possibilities |\n",
    "|-------|---------------------------|\n",
    "|C | a |\n",
    "|a | t, l, . |\n",
    "|t | a |\n",
    "|l | i |\n",
    "|n | a |\n",
    "\n",
    "In our very small training data, if we have a capital C, the only possible next letter is 'a'.  If we have an 'a', then the next letter could be either 't' or 'l', or it could be the end of the sequence."
   ]
  },
  {
   "cell_type": "markdown",
   "metadata": {},
   "source": [
    "You can imagine making a similar table that looks back more letters, like 2 or 3.  We're going to extend our class to do these things now.\n",
    "\n",
    "One trick we're going to use is trim a string down to the last N characters, like this:"
   ]
  },
  {
   "cell_type": "code",
   "execution_count": 25,
   "metadata": {},
   "outputs": [
    {
     "data": {
      "text/plain": [
       "'lo'"
      ]
     },
     "execution_count": 25,
     "metadata": {},
     "output_type": "execute_result"
    }
   ],
   "source": [
    "'hello'[-2:] # Take the last 2 characters"
   ]
  },
  {
   "cell_type": "markdown",
   "metadata": {},
   "source": [
    "We're going to need to keep track of the information on the right side of that table.  We need to collect statistics about each letter and how often it occurs."
   ]
  },
  {
   "cell_type": "code",
   "execution_count": 47,
   "metadata": {},
   "outputs": [],
   "source": [
    "class MarkovCell:\n",
    "    \"\"\"Keeps track of statistics for a set of prior letters.\n",
    "    \n",
    "    One instance of this corresponds to the **rows** in the \"Catalina\" example table above.\n",
    "    \"\"\"\n",
    "    def __init__(self, prior_letters: str):\n",
    "        self.prior_letters = prior_letters\n",
    "        self.total_count = 0 # How many training examples we have seen.\n",
    "        self.next_letters = {} # Key: the letter. Value: how many times we have seen that letter.\n",
    "    \n",
    "    def add_letter(self, letter: str):\n",
    "        self.total_count += 1\n",
    "        count = self.next_letters.get(letter, 0) # Will return 0 if we have never seen this one before.\n",
    "        count += 1\n",
    "        self.next_letters[letter] = count\n",
    "    \n",
    "    def __repr__(self):\n",
    "        entries = []\n",
    "        for key, value in self.next_letters.items():\n",
    "            entries.append(f'{key}:{value}')\n",
    "        all_entries = ', '.join(entries)\n",
    "        return f'MarkovCell({all_entries})'"
   ]
  },
  {
   "cell_type": "code",
   "execution_count": 48,
   "metadata": {},
   "outputs": [],
   "source": [
    "   \n",
    "class MarkovGenerator:\n",
    "    def __init__(self, lookback_size=2):\n",
    "        self._end_char = '.' # Used internally to indicate this is the end of the string.\n",
    "        self._lookback_size = lookback_size\n",
    "        self._stats = {} # This will be keyed by the previous characters. Value will be a MarkovCell instance.\n",
    "    \n",
    "    def train(self, sample: str):\n",
    "        \"\"\"Accept one sample of training data.\"\"\"\n",
    "        prev_chars = ''\n",
    "        # Add special character to indicate end of sample.\n",
    "        sample += self._end_char\n",
    "        for current_char in sample:\n",
    "            print(f'char={current_char}')\n",
    "\n",
    "            # If we've never seen this sequence of characters before, add it to our table.\n",
    "            cell = self._stats.get(prev_chars)\n",
    "            if not cell:\n",
    "                cell = MarkovCell(prev_chars)\n",
    "                self._stats[prev_chars] = cell\n",
    "            # Update our table with what we've seen for this character.\n",
    "            cell.add_letter(current_char)\n",
    "\n",
    "            # Advance the sliding window\n",
    "            prev_chars += current_char\n",
    "            prev_chars = prev_chars[-self._lookback_size:] # Keep only the last N characters\n",
    "\n",
    "\n",
    "    def generate(self) -> str:\n",
    "        \"\"\"Generate one example.\"\"\"\n",
    "        pass"
   ]
  },
  {
   "cell_type": "code",
   "execution_count": 49,
   "metadata": {},
   "outputs": [
    {
     "name": "stdout",
     "output_type": "stream",
     "text": [
      "char=C\n",
      "char=a\n",
      "char=t\n",
      "char=a\n",
      "char=l\n",
      "char=i\n",
      "char=n\n",
      "char=a\n",
      "char=.\n"
     ]
    }
   ],
   "source": [
    "m = MarkovGenerator()\n",
    "m.train('Catalina')"
   ]
  },
  {
   "cell_type": "code",
   "execution_count": 50,
   "metadata": {},
   "outputs": [
    {
     "data": {
      "text/plain": [
       "{'': MarkovCell(C:1),\n",
       " 'C': MarkovCell(a:1),\n",
       " 'Ca': MarkovCell(t:1),\n",
       " 'at': MarkovCell(a:1),\n",
       " 'ta': MarkovCell(l:1),\n",
       " 'al': MarkovCell(i:1),\n",
       " 'li': MarkovCell(n:1),\n",
       " 'in': MarkovCell(a:1),\n",
       " 'na': MarkovCell(.:1)}"
      ]
     },
     "execution_count": 50,
     "metadata": {},
     "output_type": "execute_result"
    }
   ],
   "source": [
    "m._stats"
   ]
  },
  {
   "cell_type": "markdown",
   "metadata": {},
   "source": [
    "This looks like what we'd expect looking back two letters.  Let's see if it looks the way we'd expect going back only 1 letter."
   ]
  },
  {
   "cell_type": "code",
   "execution_count": 51,
   "metadata": {},
   "outputs": [
    {
     "name": "stdout",
     "output_type": "stream",
     "text": [
      "char=C\n",
      "char=a\n",
      "char=t\n",
      "char=a\n",
      "char=l\n",
      "char=i\n",
      "char=n\n",
      "char=a\n",
      "char=.\n"
     ]
    }
   ],
   "source": [
    "m = MarkovGenerator(lookback_size=1)\n",
    "m.train('Catalina')"
   ]
  },
  {
   "cell_type": "code",
   "execution_count": 52,
   "metadata": {},
   "outputs": [
    {
     "data": {
      "text/plain": [
       "{'': MarkovCell(C:1),\n",
       " 'C': MarkovCell(a:1),\n",
       " 'a': MarkovCell(t:1, l:1, .:1),\n",
       " 't': MarkovCell(a:1),\n",
       " 'l': MarkovCell(i:1),\n",
       " 'i': MarkovCell(n:1),\n",
       " 'n': MarkovCell(a:1)}"
      ]
     },
     "execution_count": 52,
     "metadata": {},
     "output_type": "execute_result"
    }
   ],
   "source": [
    "m._stats"
   ]
  },
  {
   "cell_type": "markdown",
   "metadata": {},
   "source": [
    "This does look like we want!  Let's try the generate method now."
   ]
  },
  {
   "cell_type": "markdown",
   "metadata": {},
   "source": [
    "Imagine we're looking at an 'a' while doing a one character look back, and we need to predict the next letter.  Our starting point (regardless of how many letters we're looking back) is a `MarkovCell`` representing the previous state, along with the possible next step.  Let's pick one up:"
   ]
  },
  {
   "cell_type": "code",
   "execution_count": 53,
   "metadata": {},
   "outputs": [],
   "source": [
    "cell = m._stats['a']"
   ]
  },
  {
   "cell_type": "markdown",
   "metadata": {},
   "source": [
    "We can tell how many pieces of training data we've seen for this state:"
   ]
  },
  {
   "cell_type": "code",
   "execution_count": 54,
   "metadata": {},
   "outputs": [
    {
     "data": {
      "text/plain": [
       "3"
      ]
     },
     "execution_count": 54,
     "metadata": {},
     "output_type": "execute_result"
    }
   ],
   "source": [
    "cell.total_count"
   ]
  },
  {
   "cell_type": "markdown",
   "metadata": {},
   "source": [
    "And we can see what possible next letters could come next:"
   ]
  },
  {
   "cell_type": "code",
   "execution_count": 55,
   "metadata": {},
   "outputs": [
    {
     "data": {
      "text/plain": [
       "{'t': 1, 'l': 1, '.': 1}"
      ]
     },
     "execution_count": 55,
     "metadata": {},
     "output_type": "execute_result"
    }
   ],
   "source": [
    "cell.next_letters"
   ]
  },
  {
   "cell_type": "markdown",
   "metadata": {},
   "source": [
    "## Making a selection\n",
    "Given the letters to choose from, we want to make a selection.  Here's how we'll do it.  Imagine a roulette wheel with many spots on it for different possible selections.  We can also imagine that certain possible selections occupy more slots on that wheel.  So imagine we can choose either 'a', 'b', or 'c'.  But 'a' has a weight of 3, and 'b' and 'c' have a weight of one each:"
   ]
  },
  {
   "cell_type": "code",
   "execution_count": 56,
   "metadata": {},
   "outputs": [],
   "source": [
    "d = {'a': 3, 'b': 1, 'c': 1}"
   ]
  },
  {
   "cell_type": "markdown",
   "metadata": {},
   "source": [
    "Let's make a roulette wheel function that does this selection for us:"
   ]
  },
  {
   "cell_type": "code",
   "execution_count": 75,
   "metadata": {},
   "outputs": [],
   "source": [
    "def wheel_select(options: dict, total_count: int):\n",
    "    \"\"\"Make a weighted random selection.\"\"\"\n",
    "    selected_spot = random.randint(0, total_count)\n",
    "    current_spot = 0\n",
    "    for key, slots in options.items():\n",
    "        if selected_spot <= current_spot + slots:\n",
    "            return key\n",
    "        current_spot += slots\n",
    "    # We should never get here.\n",
    "    raise Exception('Failed to select an option; total_count must have been wrong')"
   ]
  },
  {
   "cell_type": "code",
   "execution_count": 73,
   "metadata": {},
   "outputs": [
    {
     "data": {
      "text/plain": [
       "'a'"
      ]
     },
     "execution_count": 73,
     "metadata": {},
     "output_type": "execute_result"
    }
   ],
   "source": [
    "wheel_select(d, 5)"
   ]
  },
  {
   "cell_type": "markdown",
   "metadata": {},
   "source": [
    "That looks good. Let's run it 20 times, and we expect to see 'a' come up more often than the other options. Also let's make sure we see all the options."
   ]
  },
  {
   "cell_type": "code",
   "execution_count": 74,
   "metadata": {},
   "outputs": [
    {
     "data": {
      "text/plain": [
       "['a',\n",
       " 'b',\n",
       " 'a',\n",
       " 'a',\n",
       " 'b',\n",
       " 'a',\n",
       " 'a',\n",
       " 'a',\n",
       " 'a',\n",
       " 'a',\n",
       " 'a',\n",
       " 'a',\n",
       " 'a',\n",
       " 'c',\n",
       " 'a',\n",
       " 'b',\n",
       " 'c',\n",
       " 'a',\n",
       " 'c',\n",
       " 'a']"
      ]
     },
     "execution_count": 74,
     "metadata": {},
     "output_type": "execute_result"
    }
   ],
   "source": [
    "[wheel_select(d, 5) for _ in range(20)]"
   ]
  },
  {
   "cell_type": "markdown",
   "metadata": {},
   "source": [
    "This looks like good raw materials for our selector.  Although we could put the routine for the weighted random selection into the MarkovCell class, we're going to leave it separate because that's a generally useful function outside of the context of Markov chains (I've used that function many times before in games.)  Let's add a routine to generate the whole text iteratively in the MarkovGenerator."
   ]
  },
  {
   "cell_type": "code",
   "execution_count": 113,
   "metadata": {},
   "outputs": [],
   "source": [
    "   \n",
    "class MarkovGenerator:\n",
    "    def __init__(self, lookback_size=2):\n",
    "        self._end_char = '.' # Used internally to indicate this is the end of the string.\n",
    "        self._lookback_size = lookback_size\n",
    "        self._stats = {} # This will be keyed by the previous characters. Value will be a MarkovCell instance.\n",
    "    \n",
    "    def train(self, sample: str):\n",
    "        \"\"\"Accept one sample of training data.\"\"\"\n",
    "        prev_chars = ''\n",
    "        # Add special character to indicate end of sample.\n",
    "        sample += self._end_char\n",
    "        for current_char in sample:\n",
    "            #print(f'char={current_char} prev_chars={prev_chars}')\n",
    "\n",
    "            # If we've never seen this sequence of characters before, add it to our table.\n",
    "            cell = self._stats.get(prev_chars)\n",
    "            if not cell:\n",
    "                cell = MarkovCell(prev_chars)\n",
    "                self._stats[prev_chars] = cell\n",
    "            # Update our table with what we've seen for this character.\n",
    "            cell.add_letter(current_char)\n",
    "\n",
    "            # Advance the sliding window\n",
    "            prev_chars += current_char\n",
    "            prev_chars = prev_chars[-self._lookback_size:] # Keep only the last N characters\n",
    "\n",
    "\n",
    "    def generate(self) -> str:\n",
    "        \"\"\"Generate one example.\"\"\"\n",
    "        generated_text = '' # All the text generated so far.\n",
    "        window = '' # Last N characters of text generated.\n",
    "        letter = ''\n",
    "        while letter != self._end_char:\n",
    "            cell = self._stats[window]\n",
    "            letter = wheel_select(cell.next_letters, cell.total_count)\n",
    "            #print(f'cell={cell} letter={letter}')\n",
    "            generated_text += letter\n",
    "            window = generated_text[-self._lookback_size:] # Last N letters of text\n",
    "        generated_text = generated_text[:-1] # Take off the terminator character.\n",
    "        return generated_text\n",
    "\n",
    "    def generate_multi(self, batch_size=20):\n",
    "        return [self.generate() for _ in range(batch_size)]"
   ]
  },
  {
   "cell_type": "markdown",
   "metadata": {},
   "source": [
    "Let's see how it goes:"
   ]
  },
  {
   "cell_type": "code",
   "execution_count": 107,
   "metadata": {},
   "outputs": [],
   "source": [
    "m = MarkovGenerator(lookback_size=1)\n",
    "m.train('Catalina')"
   ]
  },
  {
   "cell_type": "code",
   "execution_count": 108,
   "metadata": {},
   "outputs": [
    {
     "data": {
      "text/plain": [
       "'Calinatatata'"
      ]
     },
     "execution_count": 108,
     "metadata": {},
     "output_type": "execute_result"
    }
   ],
   "source": [
    "m.generate()"
   ]
  },
  {
   "cell_type": "code",
   "execution_count": 109,
   "metadata": {},
   "outputs": [
    {
     "data": {
      "text/plain": [
       "['Ca',\n",
       " 'Ca',\n",
       " 'Ca',\n",
       " 'Catata',\n",
       " 'Catatalinatata',\n",
       " 'Catatalinatatatatatatatatatatalinalinalinatatatalinatatata',\n",
       " 'Cata',\n",
       " 'Ca',\n",
       " 'Cata',\n",
       " 'Ca',\n",
       " 'Catalina',\n",
       " 'Catatatalinatatata',\n",
       " 'Ca',\n",
       " 'Calinatalinatalinatalinatata',\n",
       " 'Cata',\n",
       " 'Catalinalina',\n",
       " 'Ca',\n",
       " 'Ca',\n",
       " 'Catatatalinatalinatalinatalinalinatalinatata',\n",
       " 'Catatatata']"
      ]
     },
     "execution_count": 109,
     "metadata": {},
     "output_type": "execute_result"
    }
   ],
   "source": [
    "[m.generate() for _ in range(20)]"
   ]
  },
  {
   "cell_type": "markdown",
   "metadata": {},
   "source": [
    "This looks promising!  Let's try it with our city names."
   ]
  },
  {
   "cell_type": "code",
   "execution_count": 114,
   "metadata": {},
   "outputs": [],
   "source": [
    "def train(input_data: Iterable[str], lookback_size=2) -> MarkovGenerator:\n",
    "    generator = MarkovGenerator(lookback_size=lookback_size)\n",
    "    for sample in input_data:\n",
    "        generator.train(sample)\n",
    "    return generator"
   ]
  },
  {
   "cell_type": "code",
   "execution_count": 115,
   "metadata": {},
   "outputs": [],
   "source": [
    "city_generator = train(get_cities())"
   ]
  },
  {
   "cell_type": "code",
   "execution_count": 116,
   "metadata": {},
   "outputs": [
    {
     "data": {
      "text/plain": [
       "['Was',\n",
       " 'New York',\n",
       " 'Philas',\n",
       " 'Washingeles',\n",
       " 'New York',\n",
       " 'Was',\n",
       " 'Chingelphicago',\n",
       " 'Atladelphicago',\n",
       " 'New York',\n",
       " 'Chia',\n",
       " 'Chicago',\n",
       " 'New York',\n",
       " 'Miami',\n",
       " 'Atlanta',\n",
       " 'New York',\n",
       " 'Boston',\n",
       " 'Atlanta',\n",
       " 'Was',\n",
       " 'New York',\n",
       " 'Detroit']"
      ]
     },
     "execution_count": 116,
     "metadata": {},
     "output_type": "execute_result"
    }
   ],
   "source": [
    "city_generator.generate_multi()"
   ]
  },
  {
   "cell_type": "markdown",
   "metadata": {},
   "source": [
    "Hey, I think that works!"
   ]
  },
  {
   "cell_type": "markdown",
   "metadata": {},
   "source": [
    "Now let's try it with training on the full set of US Cities."
   ]
  },
  {
   "cell_type": "markdown",
   "metadata": {},
   "source": [
    "You can download the full list from the website at the top of this file, but here's where I have mine:"
   ]
  },
  {
   "cell_type": "code",
   "execution_count": 125,
   "metadata": {},
   "outputs": [],
   "source": [
    "cities = get_cities('data/uscities-full.csv')"
   ]
  },
  {
   "cell_type": "code",
   "execution_count": 126,
   "metadata": {},
   "outputs": [
    {
     "data": {
      "text/plain": [
       "30844"
      ]
     },
     "execution_count": 126,
     "metadata": {},
     "output_type": "execute_result"
    }
   ],
   "source": [
    "len(cities)"
   ]
  },
  {
   "cell_type": "code",
   "execution_count": 127,
   "metadata": {},
   "outputs": [
    {
     "data": {
      "text/plain": [
       "['Dallas', 'Philadelphia', 'Atlanta', 'Washington', 'Boston']"
      ]
     },
     "execution_count": 127,
     "metadata": {},
     "output_type": "execute_result"
    }
   ],
   "source": [
    "cities[5:10]"
   ]
  },
  {
   "cell_type": "code",
   "execution_count": 130,
   "metadata": {},
   "outputs": [
    {
     "data": {
      "text/plain": [
       "['Vinhorne',\n",
       " 'Wastaint',\n",
       " 'Roseho Gle',\n",
       " 'Orion th',\n",
       " 'Mooks',\n",
       " 'Redingtots',\n",
       " 'Craver Johne',\n",
       " 'Parry Har',\n",
       " 'Lak',\n",
       " 'Kapen Junden',\n",
       " 'Ashinna',\n",
       " 'Oscolon',\n",
       " 'Royals Cithortrown',\n",
       " 'Eurton',\n",
       " 'Mankin',\n",
       " 'Detterthuryst Heig Garscon',\n",
       " 'Bakerselwoominville',\n",
       " 'Jassfords',\n",
       " 'Belleatt',\n",
       " 'Elbale']"
      ]
     },
     "execution_count": 130,
     "metadata": {},
     "output_type": "execute_result"
    }
   ],
   "source": [
    "city_generator = train(cities)\n",
    "city_generator.generate_multi()"
   ]
  },
  {
   "cell_type": "markdown",
   "metadata": {},
   "source": [
    "Let's try it with a lookback of 1:"
   ]
  },
  {
   "cell_type": "code",
   "execution_count": 131,
   "metadata": {},
   "outputs": [
    {
     "data": {
      "text/plain": [
       "['Ceake',\n",
       " 'Kllurn',\n",
       " 'Foowoulte',\n",
       " 'Laigezuee Spillactd',\n",
       " 'Ce',\n",
       " 'Ron',\n",
       " 'Pllie',\n",
       " 'Lupon',\n",
       " 'Saron',\n",
       " 'Norldo',\n",
       " 'She',\n",
       " 'Ciche',\n",
       " 'Crgh Rilleprkthten',\n",
       " 'Slangrier',\n",
       " 'Trand Ronddldl-Wison',\n",
       " 'Nefanddmf Vin-taumongesillouxbetoilld',\n",
       " 'Do',\n",
       " 'Wendenncilet',\n",
       " 'May',\n",
       " 'Telllal']"
      ]
     },
     "execution_count": 131,
     "metadata": {},
     "output_type": "execute_result"
    }
   ],
   "source": [
    "city_generator = train(cities, lookback_size=1)\n",
    "city_generator.generate_multi()"
   ]
  },
  {
   "cell_type": "markdown",
   "metadata": {},
   "source": [
    "And with a lookback of 3:"
   ]
  },
  {
   "cell_type": "code",
   "execution_count": 132,
   "metadata": {},
   "outputs": [
    {
     "data": {
      "text/plain": [
       "['Forest Crookharion',\n",
       " 'Oakleton',\n",
       " 'Mont',\n",
       " 'Campic',\n",
       " 'Cima',\n",
       " 'Spoka',\n",
       " 'Sunrisbury',\n",
       " 'Reed',\n",
       " 'Moorhead Lake',\n",
       " 'Lowrights',\n",
       " 'Gilma',\n",
       " 'Delstove',\n",
       " 'Greenco',\n",
       " 'Filla Falm Cana',\n",
       " 'Horse',\n",
       " 'Freenfield',\n",
       " 'Wald',\n",
       " 'Bell',\n",
       " 'Granjeno',\n",
       " 'Norwater']"
      ]
     },
     "execution_count": 132,
     "metadata": {},
     "output_type": "execute_result"
    }
   ],
   "source": [
    "city_generator = train(cities, lookback_size=3)\n",
    "city_generator.generate_multi()"
   ]
  },
  {
   "cell_type": "code",
   "execution_count": 133,
   "metadata": {},
   "outputs": [
    {
     "data": {
      "text/plain": [
       "['Menter',\n",
       " 'Socita Rey',\n",
       " 'Slico',\n",
       " 'Ellistown',\n",
       " 'East Dalez',\n",
       " 'Nogan',\n",
       " 'Whittle River',\n",
       " 'Glendale',\n",
       " 'Rosedale',\n",
       " 'House',\n",
       " 'Hint',\n",
       " 'Tryopolian Ferryden-on-on-Dumas',\n",
       " 'Hobson',\n",
       " 'Jack',\n",
       " 'Pamester',\n",
       " 'Burn',\n",
       " 'Don City Ville',\n",
       " 'Marshauvin',\n",
       " 'Pisgah',\n",
       " 'Hins']"
      ]
     },
     "execution_count": 133,
     "metadata": {},
     "output_type": "execute_result"
    }
   ],
   "source": [
    "city_generator.generate_multi()"
   ]
  },
  {
   "cell_type": "markdown",
   "metadata": {},
   "source": [
    "With a lookback of 4, it's quite a bit more coherent:"
   ]
  },
  {
   "cell_type": "code",
   "execution_count": 134,
   "metadata": {},
   "outputs": [
    {
     "data": {
      "text/plain": [
       "['Nesquite',\n",
       " 'Twin Centra Colony',\n",
       " 'Necedale Centry Crowhead Brook',\n",
       " 'Gopher South Ogden',\n",
       " 'West Petersonville',\n",
       " 'Kings',\n",
       " 'Marshall',\n",
       " 'Springs Lake',\n",
       " 'Amherst',\n",
       " 'Moreland',\n",
       " 'Little',\n",
       " 'East',\n",
       " 'Garrelwood',\n",
       " 'Algodones',\n",
       " 'Clare',\n",
       " 'West Costa Springford',\n",
       " 'Latimera',\n",
       " 'Minerales',\n",
       " 'White Meding Water',\n",
       " 'Jonesburg']"
      ]
     },
     "execution_count": 134,
     "metadata": {},
     "output_type": "execute_result"
    }
   ],
   "source": [
    "city_generator = train(cities, lookback_size=4)\n",
    "city_generator.generate_multi()"
   ]
  },
  {
   "cell_type": "markdown",
   "metadata": {},
   "source": [
    "Now let's see what happens if we generate some text based on the Dungeons and dragons handbook."
   ]
  },
  {
   "cell_type": "code",
   "execution_count": 136,
   "metadata": {},
   "outputs": [],
   "source": [
    "import codecs\n",
    "with codecs.open('e:/tmp/dnd_sample.txt', encoding='utf-8') as f:\n",
    "    dnd_text = f.read()"
   ]
  },
  {
   "cell_type": "code",
   "execution_count": 139,
   "metadata": {},
   "outputs": [
    {
     "data": {
      "text/plain": [
       "('The DUNGEONS & DRAGONS game is a roleplaying \\r\\ngame. In fact, D&D invented the roleplaying game \\r\\nan',\n",
       " 27662)"
      ]
     },
     "execution_count": 139,
     "metadata": {},
     "output_type": "execute_result"
    }
   ],
   "source": [
    "dnd_text[:100], len(dnd_text)"
   ]
  },
  {
   "cell_type": "markdown",
   "metadata": {},
   "source": [
    "We don't want it to generate a whole book, so let's divide that into sentences."
   ]
  },
  {
   "cell_type": "code",
   "execution_count": 164,
   "metadata": {},
   "outputs": [],
   "source": [
    "def preprocess_text(t):\n",
    "    t = t.replace('\\r', '') # Remove carriage returns\n",
    "    t = t.replace('\\n', '') # Remove newlines\n",
    "    lines = t.split('.')\n",
    "    return [line.strip() + '.' for line in lines]"
   ]
  },
  {
   "cell_type": "code",
   "execution_count": 165,
   "metadata": {},
   "outputs": [],
   "source": [
    "dnd = preprocess_text(dnd_text)"
   ]
  },
  {
   "cell_type": "code",
   "execution_count": 166,
   "metadata": {},
   "outputs": [
    {
     "data": {
      "text/plain": [
       "253"
      ]
     },
     "execution_count": 166,
     "metadata": {},
     "output_type": "execute_result"
    }
   ],
   "source": [
    "len(dnd)"
   ]
  },
  {
   "cell_type": "code",
   "execution_count": 168,
   "metadata": {},
   "outputs": [
    {
     "data": {
      "text/plain": [
       "'The adventure is the heart of the D&D game.'"
      ]
     },
     "execution_count": 168,
     "metadata": {},
     "output_type": "execute_result"
    }
   ],
   "source": [
    "dnd[12]"
   ]
  },
  {
   "cell_type": "markdown",
   "metadata": {},
   "source": [
    "Let's see what we get when we train to 4 characters on the beginning of the D&D handbook:"
   ]
  },
  {
   "cell_type": "code",
   "execution_count": 169,
   "metadata": {},
   "outputs": [],
   "source": [
    "dnd_generator = train(dnd, lookback_size=4)"
   ]
  },
  {
   "cell_type": "code",
   "execution_count": 170,
   "metadata": {},
   "outputs": [
    {
     "data": {
      "text/plain": [
       "['For example, and something to repackaged in check rest limitles and your check result purchasm floor your character is 100',\n",
       " 'Through the or monsters the imagic, and monstealthy',\n",
       " 'A ROLEPLAY?Your character whole of room for treasure: Dave fun along-awaited by their communitiate to pick up of a speak threative your character “d” follow a past punch sever, or trying rogues, written anything down the game to Playhow the DUNGEONS & DRAGONS & DRAGONS & DRAGONS Basic, and fight covered the Dungeon Masters takes play, you going new miles feate army, even speak into the DUNGEONS game unique is higher is the charget number don’t play a sets to a 10 on the rooms filled adventurer',\n",
       " 'But if your own every basis or a totally), some by the Dungeon Mastery',\n",
       " 'During handscape dotted city-states however fabric of each as 0—so appen about strong, and more you by rivers, the sessions, and say in the points as character, character character Ammar, Isidro): “I’ll created, and each adventures, and might experies uses die roleplayed adventures, you can magic prowl in some remember',\n",
       " 'There’s a simple deeds a few point of thirtieth a dark character opens',\n",
       " '”Toby (Ammar): “Okay',\n",
       " '',\n",
       " '”Toby (Ammar): “I’m going dice',\n",
       " 'A DUNGEONS & DRAGONS games, and the took at the phenomenon',\n",
       " 'DUNGEONS & DRAGONS & DRAGONS &DRAGONS & DRAGONS & DRAGONS game deep watch, into take a dange, this simple, leaving game target number obtain whose technology to a persuade, and adventures often adventurers are: baronies, the Dungeon Master to see the special D&D4E_PHB_Ch01',\n",
       " 'When you’re try the power turns the was have the spectaculater, it was hailed and inspires, but if your imagic, and with a few point of the gnolls? Think of the play, for your character what has gone requires frience',\n",
       " '”Dave them—or a little time, but a twenty-states and stars and adventure',\n",
       " 'Each out try to read of each played a grows when you decides',\n",
       " 'D&D games of they might consists of even noncombination the other can in the DUNGEONS & DRAGONS adventure current age the work on to shapes metal and most templete each outcome',\n",
       " 'The heroes dice!THE CORE MECHANIC1',\n",
       " 'These deep traps, into fights of all this book, or as your imagic from to the fire cave',\n",
       " 'Some next room filmmake a Stealthy',\n",
       " 'The human adventure at the place to explorativity',\n",
       " '✦ Adventures on the pages, the DM is referee']"
      ]
     },
     "execution_count": 170,
     "metadata": {},
     "output_type": "execute_result"
    }
   ],
   "source": [
    "dnd_generator.generate_multi()"
   ]
  },
  {
   "cell_type": "code",
   "execution_count": 171,
   "metadata": {},
   "outputs": [
    {
     "data": {
      "text/plain": [
       "['Each monsters come to a grisly end, torn apart by ferocious monsters of the same group to create a new actions in the players',\n",
       " 'You can created a story of three',\n",
       " '”Dave (DM): “Old stone storytelling a dungeon Tiles: Combat encounters confronting deadly perils',\n",
       " 'GAME DICEd4 d6 d8 d10 d12 d204E_PHB_Ch01',\n",
       " 'In 2000, the world is shrouded in a series of adventures and adventure',\n",
       " 'You creates adventures features: Each place in your way you want to roll initiative game experience as the Dungeon Magazineand Dungeon or stretch out one',\n",
       " 'You can find some points of adventures',\n",
       " '✦ Miniatures, you creature to a world',\n",
       " 'The Dungeon Master control over the wilderness',\n",
       " 'When your character, you decides whether you might come in which way your character grows as the variety of location, any time to time, your friends can takes place in your characters, and it was an interesting encounter',\n",
       " 'The world, and in 1989 the landscape dotted with the other adventures',\n",
       " 'At sometimes, holding challenges, they invoke them with the rulesbooks, supplements of light',\n",
       " 'There, you don’t “lose',\n",
       " 'However, and endless possibilities',\n",
       " 'The DUNGEONS & DRAGONS game story',\n",
       " 'For example), and mystery, magic from the room filled with the chasm',\n",
       " 'Some action, D&D infinitely flexible—he or she can react to any situation, any monster Controls the way',\n",
       " 'Basically, the monsters of lava; towers that many hobby games, there',\n",
       " 'When the first editional wargamers were wargame',\n",
       " 'indd 6 3/10/08 4:44:45 PM7CHAPTER 1 | How to applying amid the image of a team that your sword-swing with a villain']"
      ]
     },
     "execution_count": 171,
     "metadata": {},
     "output_type": "execute_result"
    }
   ],
   "source": [
    "dnd_generator = train(dnd, lookback_size=6)\n",
    "dnd_generator.generate_multi()"
   ]
  },
  {
   "cell_type": "code",
   "execution_count": 172,
   "metadata": {},
   "outputs": [
    {
     "data": {
      "text/plain": [
       "['',\n",
       " 'Like the D&D game lets you by asking “What do you do?”, you answer, and the DM create the adventurers need a few “game pieces of all things D&D, a custommade to be used with places between the point, all adventure',\n",
       " 'This combination, game table',\n",
       " 'In 1997, Wizards and adventures',\n",
       " 'The world by storm',\n",
       " 'Minor kingdoms prosper, to negotiate with its abilities',\n",
       " 'Adventurers confronting deadly perils',\n",
       " 'GAME DICEd4 d6 d8 d10 d12 d204E_PHB_Ch01',\n",
       " 'Your character to do, and the rise of these assumptions',\n",
       " 'Dave (DM): “You’re by the letter “d” followed by the gong',\n",
       " 'You can even speak or act in character, you always round down to the Perceptions can employ power to shape spells the mountain',\n",
       " 'It’s new',\n",
       " '',\n",
       " 'Three Basic Set, and such minor ways: Most characters are a part of the greatest fantastic World The world by storm',\n",
       " 'This is the heroes would play a single game session or stretch out over many session or stretch out over many sessions of the D&D game: the Dungeon Tiles that you want your character’s shoes and endless possibilities',\n",
       " 'An adventure is made up of encounters and structure, with robust gameplay and encounter',\n",
       " '✦ Homemade: Many DMs choose to created Chainmail, a set of rules, miniatures, you’ve contributed to the phenomenon',\n",
       " 'From time to time, the whole group of play, even nonmagical adventures (or selects premade adventurers confronting deadly perils',\n",
       " 'Clerics and paladins call down the wrath of the battles from history, but as the game store where they left off',\n",
       " '”Cam (Isidro): “I’ll creep up and peek through']"
      ]
     },
     "execution_count": 172,
     "metadata": {},
     "output_type": "execute_result"
    }
   ],
   "source": [
    "dnd_generator = train(dnd, lookback_size=7)\n",
    "dnd_generator.generate_multi()"
   ]
  },
  {
   "cell_type": "code",
   "execution_count": null,
   "metadata": {},
   "outputs": [],
   "source": []
  }
 ],
 "metadata": {
  "kernelspec": {
   "display_name": "Python 3",
   "language": "python",
   "name": "python3"
  },
  "language_info": {
   "codemirror_mode": {
    "name": "ipython",
    "version": 3
   },
   "file_extension": ".py",
   "mimetype": "text/x-python",
   "name": "python",
   "nbconvert_exporter": "python",
   "pygments_lexer": "ipython3",
   "version": "3.11.6"
  }
 },
 "nbformat": 4,
 "nbformat_minor": 2
}
